{
 "cells": [
  {
   "cell_type": "code",
   "execution_count": 1,
   "metadata": {
    "tags": []
   },
   "outputs": [],
   "source": [
    "import os\n",
    "import math\n",
    "import numpy as np\n",
    "import pandas as pd\n",
    "import matplotlib.pyplot as plt\n",
    "import lmfit\n",
    "\n",
    "%run \"C:\\Users\\conde\\Desktop\\My Archives\\Codes\\Python\\Data Analysis\\my_optical_analysis_functions.ipynb\""
   ]
  },
  {
   "cell_type": "code",
   "execution_count": null,
   "metadata": {
    "tags": []
   },
   "outputs": [],
   "source": [
    "directory = \"C:\\\\Users\\\\conde\\\\Desktop\\\\My Archives\\\\Photonicamp\\\\Artigos Publicados\\\\LTOI e LN on Sapphire\\\\LTOI\\\\LTOI - Simulation\"\n",
    "\n",
    "directory_file_list = os.listdir(directory)\n",
    "selected_files = []\n",
    "counter = 0\n",
    "\n",
    "for i in directory_file_list:\n",
    "    if i.endswith(\".csv\"):\n",
    "        print(f\"{counter}: {i}\")\n",
    "        selected_files.append(i)\n",
    "        counter += 1"
   ]
  },
  {
   "cell_type": "code",
   "execution_count": null,
   "metadata": {
    "tags": []
   },
   "outputs": [],
   "source": [
    "idx_file = 0\n",
    "df_delimiter = ','\n",
    "df_header = 4\n",
    "\n",
    "file_name = selected_files[idx_file]\n",
    "df_raw = pd.read_csv(directory+\"\\\\\"+selected_files[idx_file], delimiter=df_delimiter, header=df_header)\n",
    "df_raw = df_raw.map(lambda x: complex(str(x).replace('i', 'j')))\n",
    "columns_raw=df_raw.columns\n",
    "\n",
    "print(file_name)\n",
    "df_raw.head()"
   ]
  },
  {
   "cell_type": "code",
   "execution_count": null,
   "metadata": {
    "tags": []
   },
   "outputs": [],
   "source": [
    "idx_df_columns_to_round = [0,1,2]\n",
    "idx_df_columns_to_delete = []\n",
    "real_digits = 10\n",
    "imag_digits = 10\n",
    "#----------\n",
    "\n",
    "df = pd.DataFrame(columns=columns_raw)\n",
    "\n",
    "for i in columns_raw:\n",
    "    df[i] = df_raw[i]\n",
    "\n",
    "for i in idx_df_columns_to_round:\n",
    "    df[columns_raw[i]] = np.round(df_raw[columns_raw[i]].values.real, real_digits) + np.round(df_raw[columns_raw[i]].values.imag, imag_digits)\n",
    "\n",
    "for i in idx_df_columns_to_delete:\n",
    "    del df[columns_raw[i]]\n",
    "\n",
    "columns=df.columns\n",
    "\n",
    "print(file_name)\n",
    "df.head()"
   ]
  },
  {
   "cell_type": "code",
   "execution_count": null,
   "metadata": {},
   "outputs": [],
   "source": [
    "print(file_name)\n",
    "counter = 0\n",
    "for i in columns:\n",
    "    print(f\"{counter}: {i}\")\n",
    "    counter += 1"
   ]
  },
  {
   "cell_type": "code",
   "execution_count": 59,
   "metadata": {
    "tags": []
   },
   "outputs": [],
   "source": [
    "df_filtered = pd.DataFrame(columns=df.columns)\n",
    "for i in columns:\n",
    "    df_filtered[i] = df[i]\n",
    "    \n",
    "df_filtered = df_filtered[df_filtered[columns[0]].values.real*180/np.pi>64.8]\n",
    "df_filtered = df_filtered[df_filtered[columns[1]].values.real>59e-9]\n",
    "df_filtered = df_filtered[df_filtered[columns[9]].values.real>1.55]\n",
    "# df_filtered = df_filtered[df_filtered[columns[2]].values.real>29e-9]\n",
    "\n",
    "#df_filtered = df_filtered[df_filtered[columns[12]].values.real>0.99]\n",
    "df_filtered_TE = df_filtered[df_filtered[columns[4]].values.real>0.1]\n",
    "df_filtered_TM = df_filtered[df_filtered[columns[6]].values.real>0.1]"
   ]
  },
  {
   "cell_type": "code",
   "execution_count": null,
   "metadata": {
    "tags": []
   },
   "outputs": [],
   "source": [
    "idx_df_column_X = 13\n",
    "X_TE = df_filtered_TE[columns[idx_df_column_X]].values.real\n",
    "X_TM = df_filtered_TM[columns[idx_df_column_X]].values.real\n",
    "\n",
    "idx_df_column_Y = 7\n",
    "Y_TE = df_filtered_TE[columns[idx_df_column_Y]].values.real/(2*np.pi)\n",
    "Y_TM = df_filtered_TM[columns[idx_df_column_Y]].values.real/(2*np.pi)\n",
    "\n",
    "fig, ax = plt.subplots(1,2,figsize=(12,4))\n",
    "\n",
    "ax[0].scatter(X_TE,Y_TE)\n",
    "ax[0].set_xlabel(columns[idx_df_column_X])\n",
    "ax[0].set_ylabel(columns[idx_df_column_Y])\n",
    "ax[0].grid(True)\n",
    "\n",
    "ax[1].scatter(X_TM,Y_TM)\n",
    "ax[1].set_xlabel(columns[idx_df_column_X])\n",
    "ax[1].set_ylabel(columns[idx_df_column_Y])\n",
    "ax[1].grid(True)\n",
    "\n",
    "print(file_name)"
   ]
  },
  {
   "cell_type": "code",
   "execution_count": 61,
   "metadata": {},
   "outputs": [],
   "source": [
    "lambda_sweep = 'down'\n",
    "freq0 = 193e12\n",
    "m0 = 700\n",
    "\n",
    "if lambda_sweep=='up':\n",
    "    X_TE_mod = np.flip(X_TE) - m0\n",
    "    X_TM_mod = np.flip(X_TM) - m0\n",
    "    Y_TE_mod = np.flip(Y_TE) - freq0\n",
    "    Y_TM_mod = np.flip(Y_TM) - freq0\n",
    "elif lambda_sweep=='down':\n",
    "    X_TE_mod = X_TE - m0\n",
    "    X_TM_mod = X_TM - m0\n",
    "    Y_TE_mod = Y_TE - freq0\n",
    "    Y_TM_mod = Y_TM - freq0"
   ]
  },
  {
   "cell_type": "code",
   "execution_count": null,
   "metadata": {},
   "outputs": [],
   "source": [
    "X_TE_int = np.arange(math.ceil(X_TE_mod[0]), math.floor(X_TE_mod[-1]),1)\n",
    "Y_TE_int = interp1d(X_TE_mod, Y_TE_mod)(X_TE_int)\n",
    "\n",
    "X_TM_int = np.arange(math.ceil(X_TM_mod[0]), math.floor(X_TM_mod[-1]),1)\n",
    "Y_TM_int = interp1d(X_TM_mod, Y_TM_mod)(X_TM_int)\n",
    "\n",
    "fig, ax = plt.subplots(1,2,figsize=(12,4))\n",
    "fig.tight_layout()\n",
    "\n",
    "ax[0].scatter(X_TE_int,Y_TE_int)\n",
    "ax[0].grid(True)\n",
    "\n",
    "ax[1].scatter(X_TM_int,Y_TM_int)\n",
    "ax[1].grid(True)\n",
    "\n",
    "print(file_name)"
   ]
  },
  {
   "cell_type": "code",
   "execution_count": null,
   "metadata": {},
   "outputs": [],
   "source": [
    "X_TE_disp = X_TE_int\n",
    "Y_TE_disp = Y_TE_int\n",
    "\n",
    "model = lmfit.Model(freq_disp)\n",
    "params = model.make_params(D0={'value': 5.0e12, 'vary': True, 'min':-np.inf, 'max':np.inf},\n",
    "                           D1={'value': 170.0e9, 'vary': True, 'min':-np.inf, 'max':np.inf},\n",
    "                           D2={'value': -50.0e6, 'vary': True, 'min':-np.inf, 'max':np.inf},\n",
    "                           D3={'value': 1.0e7, 'vary': True, 'min':-np.inf, 'max':np.inf})\n",
    "result = model.fit(Y_TE_disp, params, u=X_TE_disp, method='leastsq')\n",
    "\n",
    "ans_TE = result.params.valuesdict()\n",
    "\n",
    "fig, ax = plt.subplots(figsize=(13,4))\n",
    "fig.tight_layout()\n",
    "ax.scatter(X_TE_disp, (Y_TE_disp - ans_TE['D0'] - X_TE_disp*ans_TE['D1']), color='black', linewidth=3)\n",
    "ax.plot(X_TE_disp, freq_disp(X_TE_disp, 0, 0, ans_TE['D2'], ans_TE['D3']), color='red', linewidth=2, linestyle='dashed')\n",
    "ax.grid(True)\n",
    "print(file_name)\n",
    "\n",
    "caique_plot(X_TE_disp, Y_TE_disp, plottype='scatter', annotate=False, result=result)"
   ]
  },
  {
   "cell_type": "code",
   "execution_count": null,
   "metadata": {},
   "outputs": [],
   "source": [
    "X_TM_disp = X_TM_int\n",
    "Y_TM_disp = Y_TM_int\n",
    "\n",
    "model = lmfit.Model(freq_disp)\n",
    "params = model.make_params(D0={'value': 5.0e12, 'vary': True, 'min':-np.inf, 'max':np.inf},\n",
    "                           D1={'value': 170.0e9, 'vary': True, 'min':-np.inf, 'max':np.inf},\n",
    "                           D2={'value': -50.0e6, 'vary': True, 'min':-np.inf, 'max':np.inf},\n",
    "                           D3={'value': 1.0e7, 'vary': True, 'min':-np.inf, 'max':np.inf})\n",
    "result = model.fit(Y_TM_disp, params, u=X_TM_disp, method='leastsq')\n",
    "\n",
    "ans_TM = result.params.valuesdict()\n",
    "\n",
    "fig, ax = plt.subplots(figsize=(13,4))\n",
    "fig.tight_layout()\n",
    "ax.scatter(X_TM_disp, (Y_TM_disp - ans_TM['D0'] - X_TM_disp*ans_TM['D1']), color='black', linewidth=3)\n",
    "ax.plot(X_TM_disp, freq_disp(X_TM_disp, 0, 0, ans_TM['D2'], ans_TM['D3']), color='red', linewidth=2, linestyle='dashed')\n",
    "ax.grid(True)\n",
    "print(file_name)\n",
    "\n",
    "caique_plot(X_TM_disp, Y_TM_disp, plottype='scatter', annotate=False, result=result)"
   ]
  },
  {
   "cell_type": "code",
   "execution_count": null,
   "metadata": {},
   "outputs": [],
   "source": []
  },
  {
   "cell_type": "code",
   "execution_count": null,
   "metadata": {},
   "outputs": [],
   "source": []
  },
  {
   "cell_type": "code",
   "execution_count": null,
   "metadata": {},
   "outputs": [],
   "source": []
  },
  {
   "cell_type": "code",
   "execution_count": null,
   "metadata": {},
   "outputs": [],
   "source": []
  },
  {
   "cell_type": "code",
   "execution_count": null,
   "metadata": {},
   "outputs": [],
   "source": []
  },
  {
   "cell_type": "code",
   "execution_count": null,
   "metadata": {},
   "outputs": [],
   "source": []
  },
  {
   "cell_type": "code",
   "execution_count": null,
   "metadata": {},
   "outputs": [],
   "source": []
  },
  {
   "cell_type": "code",
   "execution_count": null,
   "metadata": {},
   "outputs": [],
   "source": []
  },
  {
   "cell_type": "code",
   "execution_count": null,
   "metadata": {},
   "outputs": [],
   "source": []
  },
  {
   "cell_type": "code",
   "execution_count": null,
   "metadata": {},
   "outputs": [],
   "source": []
  }
 ],
 "metadata": {
  "@webio": {
   "lastCommId": null,
   "lastKernelId": null
  },
  "kernelspec": {
   "display_name": "Python 3",
   "language": "python",
   "name": "python3"
  },
  "language_info": {
   "codemirror_mode": {
    "name": "ipython",
    "version": 3
   },
   "file_extension": ".py",
   "mimetype": "text/x-python",
   "name": "python",
   "nbconvert_exporter": "python",
   "pygments_lexer": "ipython3",
   "version": "3.12.4"
  }
 },
 "nbformat": 4,
 "nbformat_minor": 4
}
