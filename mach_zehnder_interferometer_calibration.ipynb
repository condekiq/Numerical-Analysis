{
 "cells": [
  {
   "cell_type": "code",
   "execution_count": 1,
   "metadata": {},
   "outputs": [],
   "source": [
    "import os\n",
    "import numpy as np\n",
    "import pandas as pd\n",
    "import matplotlib.pyplot as plt\n",
    "\n",
    "from scipy.interpolate import interp1d\n",
    "from scipy.signal import find_peaks"
   ]
  },
  {
   "cell_type": "code",
   "execution_count": null,
   "metadata": {},
   "outputs": [],
   "source": [
    "directory = \"C:\\\\Users\\\\conde\\\\Desktop\\\\My Archives\\\\Photonicamp\\\\Artigos Publicados\\\\On-Chip Backward Stimulated Brillouin Scattering in Lithium Niobate Waveguides\\\\Data\"\n",
    "\n",
    "directory_file_list = os.listdir(directory)\n",
    "selected_files = []\n",
    "counter = 0\n",
    "\n",
    "for i in directory_file_list:\n",
    "    if i.endswith(\".csv\"):\n",
    "        print(f\"{counter}: {i}\")\n",
    "        selected_files.append(i)\n",
    "        counter += 1"
   ]
  },
  {
   "cell_type": "code",
   "execution_count": null,
   "metadata": {},
   "outputs": [],
   "source": [
    "idx_file = 0\n",
    "\n",
    "file_name = selected_files[idx_file]\n",
    "df_raw = pd.read_csv(directory+\"\\\\\"+selected_files[idx_file], engine='pyarrow')\n",
    "columns_raw=df_raw.columns\n",
    "\n",
    "print(file_name)\n",
    "df_raw.head()"
   ]
  },
  {
   "cell_type": "code",
   "execution_count": null,
   "metadata": {},
   "outputs": [],
   "source": [
    "idx_HCN_column = 2\n",
    "idx_MZI_column = 1\n",
    "#----------\n",
    "\n",
    "HCN_raw = df_raw[columns_raw[idx_HCN_column]].values\n",
    "MZI_raw = df_raw[columns_raw[idx_MZI_column]].values\n",
    "\n",
    "fig, ax = plt.subplots(2,1,figsize=(12,4))\n",
    "\n",
    "ax[0].plot(HCN_raw)\n",
    "ax[0].set_ylabel(columns_raw[idx_HCN_column])\n",
    "ax[0].set_xticks(np.linspace(0, len(HCN_raw),14))\n",
    "ax[0].grid(True)\n",
    "\n",
    "ax[1].plot(MZI_raw)\n",
    "ax[1].set_ylabel(columns_raw[idx_MZI_column])\n",
    "ax[1].set_xticks(np.linspace(0, len(MZI_raw),14))\n",
    "ax[1].grid(True)\n",
    "\n",
    "print(file_name)"
   ]
  },
  {
   "cell_type": "code",
   "execution_count": null,
   "metadata": {},
   "outputs": [],
   "source": [
    "idx_crop_i = int(2.581e6)\n",
    "idx_crop_f = int(6.4e6)\n",
    "#----------\n",
    "\n",
    "idx_crop_vec = np.arange(idx_crop_i, idx_crop_f, 1)\n",
    "\n",
    "fig, ax = plt.subplots(2,1, figsize=(12,4))\n",
    "\n",
    "ax[0].plot(HCN_raw, alpha=0.5)\n",
    "ax[0].plot(idx_crop_vec, HCN_raw[idx_crop_i:idx_crop_f], c='tab:blue')\n",
    "ax[0].plot([idx_crop_i, idx_crop_i], [np.min(HCN_raw), np.max(HCN_raw)], '--', c='r')\n",
    "ax[0].plot([idx_crop_f, idx_crop_f], [np.min(HCN_raw), np.max(HCN_raw)], '--', c='r')\n",
    "ax[0].set_xticks(np.linspace(0, len(HCN_raw),14))\n",
    "ax[0].grid(True)\n",
    "ax[0].set_ylabel(columns_raw[idx_HCN_column])\n",
    "\n",
    "ax[1].plot(MZI_raw, alpha=0.5)\n",
    "ax[1].plot(idx_crop_vec, MZI_raw[idx_crop_i:idx_crop_f], c='tab:blue')\n",
    "ax[1].plot([idx_crop_i, idx_crop_i], [np.min(MZI_raw), np.max(MZI_raw)], '--', c='r')\n",
    "ax[1].plot([idx_crop_f, idx_crop_f], [np.min(MZI_raw), np.max(MZI_raw)], '--', c='r')\n",
    "ax[1].set_xticks(np.linspace(0, len(MZI_raw),14))\n",
    "ax[1].grid(True)\n",
    "ax[1].set_ylabel(columns_raw[idx_MZI_column])\n",
    "ax[1].set_xlabel(\"Index Number\")\n",
    "\n",
    "print(file_name)"
   ]
  },
  {
   "cell_type": "code",
   "execution_count": null,
   "metadata": {},
   "outputs": [],
   "source": [
    "HCN_crop = HCN_raw[idx_crop_i:idx_crop_f]\n",
    "MZI_crop = MZI_raw[idx_crop_i:idx_crop_f]\n",
    "\n",
    "HCN_min_threshold = 6\n",
    "HCN_mean_idx_distance = 10000\n",
    "HCN_values = [1543.11423, 1543.80967, 1544.51503, 1545.23033, 1545.95549,\n",
    "              1546.69055, 1547.43558, 1548.19057, 1548.95555, 1549.73051,\n",
    "              1550.51546, 1551.31045, 1552.11546, 1552.93051, 1553.75562,\n",
    "              1554.59079, 1555.43605, 1556.29141, 1557.15686, 1558.03240,\n",
    "              1558.91808, 1559.81389]\n",
    "#-------------\n",
    "\n",
    "idx_HCN_crop_mins = find_peaks(-HCN_crop, height=-HCN_min_threshold, distance=HCN_mean_idx_distance)[0]\n",
    "\n",
    "fig, ax = plt.subplots(figsize=(14,4))\n",
    "\n",
    "ax.plot(HCN_crop)\n",
    "ax.scatter(idx_HCN_crop_mins, HCN_crop[idx_HCN_crop_mins], c='r', zorder=20)\n",
    "ax.grid(True)\n",
    "ax.set_ylabel(\"HCN\")\n",
    "ax.set_xlabel(\"Index Number\")\n",
    "\n",
    "for i in range(len(HCN_values)):\n",
    "   plt.annotate(str(i)+\" - \"+str(idx_HCN_crop_mins[i])+\" - \"+str(HCN_values[i]), xy=(idx_HCN_crop_mins[i], HCN_crop[idx_HCN_crop_mins][i]), size=7, rotation=-90)\n",
    "\n",
    "print(file_name)"
   ]
  },
  {
   "cell_type": "code",
   "execution_count": null,
   "metadata": {},
   "outputs": [],
   "source": [
    "MZI_min_threshold = 0.02\n",
    "MZI_max_threshold = 0.035\n",
    "MZI_mean_idx_distance = 100\n",
    "\n",
    "idx_MZI_maxs = find_peaks(MZI_crop, height=MZI_max_threshold, distance=MZI_mean_idx_distance)[0]\n",
    "idx_MZI_mins = find_peaks(-MZI_crop, height=-MZI_min_threshold, distance=MZI_mean_idx_distance)[0]\n",
    "remove_i_peaks = 10\n",
    "remove_f_peaks = 10\n",
    "idx_MZI_maxs_and_mins = np.sort(np.concatenate((idx_MZI_maxs, idx_MZI_mins), axis=0))[remove_i_peaks:(-remove_f_peaks)]\n",
    "\n",
    "fig, ax = plt.subplots(figsize=(14,3))\n",
    "\n",
    "ax.plot(MZI_crop)\n",
    "ax.scatter(idx_MZI_maxs_and_mins, MZI_crop[idx_MZI_maxs_and_mins], c='r')\n",
    "ax.set_xlim(40000,50500)"
   ]
  },
  {
   "cell_type": "code",
   "execution_count": 8,
   "metadata": {},
   "outputs": [],
   "source": [
    "i=18\n",
    "FSR_nm = []\n",
    "for i in range(len(idx_HCN_crop_mins)-1):\n",
    "    MZI_i_idx = np.argmin(np.abs(idx_MZI_maxs_and_mins-idx_HCN_crop_mins[i]))\n",
    "    MZI_f_idx = np.argmin(np.abs(idx_MZI_maxs_and_mins-idx_HCN_crop_mins[i+1]))\n",
    "    num_peaks = len(idx_MZI_maxs_and_mins[MZI_i_idx:MZI_f_idx+1])\n",
    "    \n",
    "    HCN_i_value = HCN_values[i]\n",
    "    HCN_f_value = HCN_values[i+1]\n",
    "    pitch = (HCN_f_value-HCN_i_value)/num_peaks\n",
    "    \n",
    "    FSR_nm.append(2*pitch)\n",
    "FSR_nm = np.array(FSR_nm)\n",
    "FSR_nm_interp = interp1d((np.array(HCN_values[:-1])+np.array(HCN_values[1:]))/2, FSR_nm)"
   ]
  },
  {
   "cell_type": "code",
   "execution_count": null,
   "metadata": {},
   "outputs": [],
   "source": [
    "λ = (np.array(HCN_values[:-1])+np.array(HCN_values[1:]))/2\n",
    "c = 299792458\n",
    "FSR_MHz = 1000*(c/(λ*λ))*FSR_nm_interp(λ)\n",
    "FSR_MHz"
   ]
  },
  {
   "cell_type": "code",
   "execution_count": null,
   "metadata": {},
   "outputs": [],
   "source": []
  },
  {
   "cell_type": "code",
   "execution_count": null,
   "metadata": {},
   "outputs": [],
   "source": []
  },
  {
   "cell_type": "code",
   "execution_count": null,
   "metadata": {},
   "outputs": [],
   "source": []
  }
 ],
 "metadata": {
  "@webio": {
   "lastCommId": null,
   "lastKernelId": null
  },
  "kernelspec": {
   "display_name": "Python 3 (ipykernel)",
   "language": "python",
   "name": "python3"
  },
  "language_info": {
   "codemirror_mode": {
    "name": "ipython",
    "version": 3
   },
   "file_extension": ".py",
   "mimetype": "text/x-python",
   "name": "python",
   "nbconvert_exporter": "python",
   "pygments_lexer": "ipython3",
   "version": "3.12.4"
  }
 },
 "nbformat": 4,
 "nbformat_minor": 4
}
