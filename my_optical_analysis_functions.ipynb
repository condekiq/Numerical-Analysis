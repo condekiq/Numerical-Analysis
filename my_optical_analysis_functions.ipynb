{
 "cells": [
  {
   "cell_type": "code",
   "execution_count": 1,
   "metadata": {},
   "outputs": [],
   "source": [
    "import numpy as np\n",
    "\n",
    "from scipy.interpolate import interp1d\n",
    "from scipy.signal import find_peaks\n",
    "\n",
    "from scipy import sparse\n",
    "from scipy.sparse.linalg import spsolve"
   ]
  },
  {
   "cell_type": "code",
   "execution_count": 3,
   "metadata": {},
   "outputs": [],
   "source": [
    "def baseline_als(y, lam, p, niter=10):\n",
    "    L = len(y)\n",
    "    D = sparse.diags([1,-2,1],[0,-1,-2], shape=(L,L-2))\n",
    "    w = np.ones(L)\n",
    "    for i in range(niter):\n",
    "        W = sparse.spdiags(w, 0, L, L)\n",
    "        Z = W + lam * D.dot(D.transpose())\n",
    "        z = spsolve(Z, w*y)\n",
    "        w = p * (y > z) + (1-p) * (y < z)\n",
    "    return z"
   ]
  },
  {
   "cell_type": "code",
   "execution_count": 4,
   "metadata": {},
   "outputs": [],
   "source": [
    "def background_flattening(y, lam=10**5, baseline_up=False, baseline_down=False):\n",
    "    if baseline_up==True:\n",
    "        y_baseline_up = baseline_als(y, lam=lam, p=1, niter=10)\n",
    "    else:\n",
    "        y_baseline_up = np.max(y)\n",
    "\n",
    "    if baseline_down==True:\n",
    "        y_baseline_down = baseline_als(y, lam=lam, p=0, niter=10)\n",
    "    else:\n",
    "        y_baseline_down = np.min(y)\n",
    "\n",
    "    y_normalized = (y-y_baseline_down)/(y_baseline_up-y_baseline_down)\n",
    "    return [y_normalized, y_baseline_up, y_baseline_down]"
   ]
  },
  {
   "cell_type": "code",
   "execution_count": 5,
   "metadata": {},
   "outputs": [],
   "source": [
    "def from_MZI_to_detuning(data, MZI, FSR, distance, height=0.2, centralize=False):\n",
    "    idx_max_MZI = find_peaks(MZI, height=1-height, distance=distance)[0]\n",
    "    idx_min_MZI = find_peaks(-MZI, height=-height, distance=distance)[0]\n",
    "    idx_MZI_peaks = np.sort(np.concatenate((idx_max_MZI, idx_min_MZI)))\n",
    "    num_MZI_peaks = len(idx_MZI_peaks)\n",
    "\n",
    "    detuning = interp1d(idx_MZI_peaks, np.arange(0, 0.5*FSR*num_MZI_peaks, 0.5*FSR))(np.arange(idx_MZI_peaks[0], idx_MZI_peaks[-1]+1, 1))\n",
    "    if centralize==True:\n",
    "        detuning = detuning - np.max(detuning)/2\n",
    "    new_data = data[idx_MZI_peaks[0]:idx_MZI_peaks[-1]+1]\n",
    "    new_MZI = MZI[idx_MZI_peaks[0]:idx_MZI_peaks[-1]+1]\n",
    "    idx_MZI_peaks = idx_MZI_peaks - idx_MZI_peaks[0]\n",
    "\n",
    "    return [detuning, new_data, new_MZI, idx_MZI_peaks]"
   ]
  },
  {
   "cell_type": "code",
   "execution_count": 3,
   "metadata": {},
   "outputs": [],
   "source": [
    "def caique_plot(X, Y, plottype='line', annotate=False, MZI=None, idx_MZI_peaks=None, result=None):\n",
    "    fig, ax = plt.subplots(figsize=(12,4))\n",
    "    fig.tight_layout()\n",
    "\n",
    "    if plottype=='scatter':\n",
    "        ax.scatter(X, Y, c='black', s=50)\n",
    "        if annotate:\n",
    "            counter=0\n",
    "            for i in X:\n",
    "                ax.annotate(str(i), xy=(i, Y[counter]), size=10, c='blue')\n",
    "                counter += 1\n",
    "                \n",
    "    elif plottype=='line':\n",
    "        ax.plot(X, Y, c='black', linewidth=3)\n",
    "\n",
    "    ax.set_xlim(X[0], X[-1])\n",
    "    ax.set_xlabel(\"X\", size=15)\n",
    "    ax.set_ylabel(\"Y\", size=15)\n",
    "    ax.tick_params(direction='out', length=6, width=2, labelsize=15)\n",
    "    ax.grid(True)\n",
    "    if type(MZI)!=type(None):\n",
    "        ax.plot(X, MZI, c=\"blue\", linewidth=2, alpha=0.5)\n",
    "    if type(idx_MZI_peaks)!=type(None):\n",
    "        ax.scatter(X[idx_MZI_peaks], MZI[idx_MZI_peaks], c=\"blue\")\n",
    "    if type(result)!=type(None):\n",
    "        ax.plot(X, result.init_fit, c='green', linewidth=2, linestyle='dashed', label='initial fit')\n",
    "        ax.plot(X, result.best_fit, c='red', linewidth=2, linestyle='dashed', label='best fit')\n",
    "        ax.legend()\n",
    "        return result.params"
   ]
  },
  {
   "cell_type": "code",
   "execution_count": 6,
   "metadata": {},
   "outputs": [],
   "source": [
    "def optical_mode(Δ, Δ0, κ, κe, V0):\n",
    "    num = 2j*κe\n",
    "    den = 2*(Δ-Δ0) + 1j*κ\n",
    "    transmission = abs(1 - num/den)**2\n",
    "    return V0*transmission"
   ]
  },
  {
   "cell_type": "code",
   "execution_count": 7,
   "metadata": {},
   "outputs": [],
   "source": [
    "def splitted_optical_mode(Δ, Δ0, κ, κe, V0, J):\n",
    "    num = 4*J**2 - (2*(Δ-Δ0) + 1j*κ)*(2*(Δ-Δ0) + 1j*(κ-2*κe))\n",
    "    den = 4*J**2 - (2*(Δ-Δ0) + 1j*κ)**2\n",
    "    transmission = abs(num/den)**2\n",
    "    return V0*transmission"
   ]
  },
  {
   "cell_type": "code",
   "execution_count": 8,
   "metadata": {},
   "outputs": [],
   "source": [
    "def optical_mode_with_fabry_perot(Δ, Δ0, κ, κe, V0, R1, R2, δ, δΔ):\n",
    "    num = np.sqrt((1-R1)*(1-R2))*(2*(Δ-Δ0) + 1j*κ)*(2*(Δ-Δ0) + 1j*(κ-2*κe))\n",
    "    den = np.exp(1j*δ*((Δ-Δ0) - δΔ))*np.sqrt(R1*R2)*(2*(Δ-Δ0) + 1j*(κ-2*κe))**2 - (2*(Δ-Δ0) + 1j*κ)**2\n",
    "    transmission = abs(num/den)**2\n",
    "    return V0*transmission"
   ]
  },
  {
   "cell_type": "code",
   "execution_count": 9,
   "metadata": {},
   "outputs": [],
   "source": [
    "def splitted_optical_mode_with_fabry_perot(Δ, Δ0, κ, κe, V0, J, R1, R2, δin, δΔin, δout, δΔout):\n",
    "    δ1 = δin*((Δ-Δ0) - δΔin)\n",
    "    δ2 = δout*((Δ-Δ0) - δΔout)\n",
    "    num = np.sqrt((1-R1)*(1-R2))*((2*(Δ-Δ0) + 1j*κ)*(2*(Δ-Δ0) + 1j*(κ-2*κe)) - 4*J**2)\n",
    "    den = np.exp(2j*(δ1+δ2))*np.sqrt(R1*R2)*(4*J**2 - (2*(Δ-Δ0) + 1j*(κ-2*κe))**2) + 4j*J*κe*(np.sqrt(R1)*np.exp(2j*δ1) + np.sqrt(R2)*np.exp(2j*δ2)) - 4*J**2 + (2*(Δ-Δ0) + 1j*κ)**2\n",
    "    transmission = abs(num/den)**2\n",
    "    return V0*transmission"
   ]
  },
  {
   "cell_type": "code",
   "execution_count": null,
   "metadata": {},
   "outputs": [],
   "source": [
    "def freq_disp(u, D0, D1, D2, D3):\n",
    "    return D0 + D1*u + (D2/2)*u**2 + (D3/6)*u**3"
   ]
  },
  {
   "cell_type": "code",
   "execution_count": null,
   "metadata": {},
   "outputs": [],
   "source": []
  },
  {
   "cell_type": "code",
   "execution_count": null,
   "metadata": {},
   "outputs": [],
   "source": []
  }
 ],
 "metadata": {
  "kernelspec": {
   "display_name": "Python 3",
   "language": "python",
   "name": "python3"
  },
  "language_info": {
   "codemirror_mode": {
    "name": "ipython",
    "version": 3
   },
   "file_extension": ".py",
   "mimetype": "text/x-python",
   "name": "python",
   "nbconvert_exporter": "python",
   "pygments_lexer": "ipython3",
   "version": "3.12.4"
  }
 },
 "nbformat": 4,
 "nbformat_minor": 2
}
