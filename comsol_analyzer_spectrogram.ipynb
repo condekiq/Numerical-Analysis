{
 "cells": [
  {
   "cell_type": "code",
   "execution_count": 1,
   "metadata": {
    "tags": []
   },
   "outputs": [],
   "source": [
    "import os\n",
    "import numpy as np\n",
    "import pandas as pd\n",
    "import matplotlib.pyplot as plt\n",
    "import scipy"
   ]
  },
  {
   "cell_type": "code",
   "execution_count": null,
   "metadata": {
    "tags": []
   },
   "outputs": [],
   "source": [
    "directory = \"C:\\\\Users\\\\conde\\\\Desktop\\\\My Archives\\\\Photonicamp\\\\Artigos Publicados\\\\On-Chip Backward Stimulated Brillouin Scattering in Lithium Niobate Waveguides\\\\Simulations\"\n",
    "directory = \"C:\\\\Users\\\\conde\\\\Desktop\\\\My Archives\\\\Postdoc\\\\Interpolarization Strip LNOI Brillouin Laser\"\n",
    "directory_file_list = os.listdir(directory)\n",
    "selected_files = []\n",
    "counter = 0\n",
    "\n",
    "for i in directory_file_list:\n",
    "    if i.endswith(\".csv\"):\n",
    "        print(f\"{counter}: {i}\")\n",
    "        selected_files.append(i)\n",
    "        counter += 1"
   ]
  },
  {
   "cell_type": "code",
   "execution_count": null,
   "metadata": {
    "tags": []
   },
   "outputs": [],
   "source": [
    "idx_file = 2\n",
    "df_delimiter = ','\n",
    "df_header = 4\n",
    "\n",
    "file_name = selected_files[idx_file]\n",
    "df_raw = pd.read_csv(directory+\"\\\\\"+selected_files[idx_file], delimiter=df_delimiter, header=df_header)\n",
    "df_raw = df_raw.map(lambda x: complex(str(x).replace('i', 'j')))\n",
    "columns_raw=df_raw.columns\n",
    "\n",
    "print(file_name)\n",
    "df_raw.head()"
   ]
  },
  {
   "cell_type": "code",
   "execution_count": null,
   "metadata": {},
   "outputs": [],
   "source": [
    "idx_df_columns_to_round = [0,1,2]\n",
    "idx_df_columns_to_delete = []\n",
    "real_digits = 10\n",
    "imag_digits = 10\n",
    "#----------\n",
    "\n",
    "df = pd.DataFrame(columns=columns_raw)\n",
    "\n",
    "for i in columns_raw:\n",
    "    df[i] = df_raw[i]\n",
    "\n",
    "for i in idx_df_columns_to_round:\n",
    "    df[columns_raw[i]] = np.round(df_raw[columns_raw[i]].values.real, real_digits) + np.round(df_raw[columns_raw[i]].values.imag, imag_digits)\n",
    "\n",
    "for i in idx_df_columns_to_delete:\n",
    "    del df[columns_raw[i]]\n",
    "\n",
    "columns=df.columns\n",
    "\n",
    "print(file_name)\n",
    "df.head()"
   ]
  },
  {
   "cell_type": "code",
   "execution_count": null,
   "metadata": {
    "tags": []
   },
   "outputs": [],
   "source": [
    "print(file_name)\n",
    "counter = 0\n",
    "for i in columns:\n",
    "    print(f\"{counter}: {i}\")\n",
    "    counter += 1"
   ]
  },
  {
   "cell_type": "code",
   "execution_count": null,
   "metadata": {
    "tags": []
   },
   "outputs": [],
   "source": [
    "df_filtered = pd.DataFrame(columns=df.columns)\n",
    "for i in columns:\n",
    "    df_filtered[i] = df[i]\n",
    "    \n",
    "#df_filtered = df_filtered[df_filtered[columns[0]].values.real<550e-9]\n",
    "#df_filtered = df_filtered[df_filtered[columns[0]].values.real>450e-9]\n",
    "#df_filtered = df_filtered[abs(df_filtered[columns[31]].values)>0.1]\n",
    "#df_filtered = df_filtered[abs(df_filtered[columns[31]].values)>0.2]\n",
    "df_filtered = df_filtered[abs(df_filtered[columns[31]].values)>0.3]\n",
    "\n",
    "df_filtered.head()"
   ]
  },
  {
   "cell_type": "code",
   "execution_count": null,
   "metadata": {
    "tags": []
   },
   "outputs": [],
   "source": [
    "idx_df_column_X = 1\n",
    "X = df_filtered[columns[idx_df_column_X]].values\n",
    "\n",
    "idx_df_column_Y = 2\n",
    "Y = df_filtered[columns[idx_df_column_Y]].values\n",
    "\n",
    "idx_df_column_Z = 31\n",
    "Z = abs(df_filtered[columns[idx_df_column_Z]].values)\n",
    "\n",
    "\n",
    "fig, ax = plt.subplots(figsize=(10, 6))\n",
    "\n",
    "im = ax.scatter(X,Y,c=Z,s=10)\n",
    "\n",
    "ax.set_xlabel(columns[idx_df_column_X])\n",
    "ax.set_ylabel(columns[idx_df_column_Y])\n",
    "\n",
    "cbar = ax.figure.colorbar(im, ax=ax, ticks=np.linspace(np.min(Z), np.max(Z), 6))\n",
    "cbar.set_label(columns[idx_df_column_Z])\n",
    "cbar.ax.tick_params(labelsize=10)\n",
    "ax.legend()\n",
    "\n",
    "ax.grid(True)\n",
    "\n",
    "print(file_name)"
   ]
  },
  {
   "cell_type": "code",
   "execution_count": 32,
   "metadata": {},
   "outputs": [],
   "source": [
    "fig.savefig(\"anglegain.pdf\", dpi=600)"
   ]
  },
  {
   "cell_type": "markdown",
   "metadata": {},
   "source": [
    "# 1 - Group Plotting"
   ]
  },
  {
   "cell_type": "code",
   "execution_count": null,
   "metadata": {
    "tags": []
   },
   "outputs": [],
   "source": [
    "print(file_name)\n",
    "counter = 0\n",
    "for column in columns:\n",
    "    print(f\"{counter}: {column}\")\n",
    "    counter += 1"
   ]
  },
  {
   "cell_type": "code",
   "execution_count": 10,
   "metadata": {
    "tags": []
   },
   "outputs": [],
   "source": [
    "# idx_df_column_X = 0\n",
    "# idx_df_column_Y = 1\n",
    "# idx_df_column_Y_groups = 1\n",
    "\n",
    "# Y_groups = np.unique(df_filtered[columns[idx_df_column_Y_groups]])\n",
    "\n",
    "# X_spectrogram = []\n",
    "# Y_spectrogram = []\n",
    "# fig = plt.figure(figsize=(7, 5))\n",
    "# flag=0\n",
    "# for i in Y_groups:\n",
    "#     X = (df_filtered.groupby(columns[idx_df_column_Y_groups]).get_group(i)[columns[idx_df_column_X]].values.real)\n",
    "#     Y = abs(df_filtered.groupby(columns[idx_df_column_Y_groups]).get_group(i)[columns[idx_df_column_Y]].values)\n",
    "#     X_spectrogram.append(X)\n",
    "#     Y_spectrogram.append(Y)\n",
    "    \n",
    "#     plt.scatter(X, Y, label=str(np.round(abs(Y_groups[flag])*1e9, 1))+\" [nm]\")\n",
    "#     plt.xlabel(columns[idx_df_column_X])\n",
    "#     plt.ylabel(columns[idx_df_column_Y])\n",
    "#     plt.grid(True)\n",
    "#     plt.legend()\n",
    "    \n",
    "#     flag=flag+1\n",
    "    \n",
    "# print(selected_files[idx_file])\n",
    "\n",
    "#fig.savefig(\"test.pdf\", dpi=600)"
   ]
  },
  {
   "cell_type": "markdown",
   "metadata": {},
   "source": [
    "# 2 - Mechanical Polarization"
   ]
  },
  {
   "cell_type": "code",
   "execution_count": null,
   "metadata": {
    "tags": []
   },
   "outputs": [],
   "source": [
    "print(selected_files[idx_file])\n",
    "counter = 0\n",
    "columns = df_filtered.columns\n",
    "for column in columns:\n",
    "    print(f\"{counter}: {column}\")\n",
    "    counter += 1"
   ]
  },
  {
   "cell_type": "code",
   "execution_count": null,
   "metadata": {},
   "outputs": [],
   "source": [
    "idx_df_column_X = 5\n",
    "X = df_filtered[columns[idx_df_column_X]].values.real*180/np.pi\n",
    "\n",
    "idx_df_column_Y = 6\n",
    "Y = df_filtered[columns[idx_df_column_Y]].values.real/1e9\n",
    "\n",
    "idx_df_column_mech_xpol = 28\n",
    "mech_xpol = df_filtered[columns[idx_df_column_mech_xpol]].values.real\n",
    "\n",
    "idx_df_column_mech_ypol = 29\n",
    "mech_ypol = df_filtered[columns[idx_df_column_mech_ypol]].values.real\n",
    "\n",
    "idx_df_column_mech_zpol = 30\n",
    "mech_zpol = df_filtered[columns[idx_df_column_mech_zpol]].values.real\n",
    "\n",
    "rgb_vec = [(r, g, b) for r, g, b in zip(mech_xpol, mech_ypol, mech_zpol)]\n",
    "\n",
    "# create the scatter plot\n",
    "fig, ax = plt.subplots(figsize=(7,5))\n",
    "\n",
    "ax.scatter(X, Y, c=rgb_vec, s=5)\n",
    "\n",
    "ax.set_xlabel(\"Wavevector [rad/um]\")\n",
    "ax.set_ylabel(\"Frequency [GHz]\")\n",
    "\n",
    "ax.set_xlim(-60,60)\n",
    "ax.set_ylim(6, 10.0)\n",
    "\n",
    "#ax.set_yticks(np.linspace(6.5, 8.5, 11))\n",
    "#ax.set_xticks([12.69, 13.27, 12.12])\n",
    "\n",
    "ax.grid(True)\n",
    "\n",
    "# show the plot\n",
    "print(selected_files[idx_file])"
   ]
  },
  {
   "cell_type": "code",
   "execution_count": 13,
   "metadata": {},
   "outputs": [],
   "source": [
    "δf = 0.05 # f0/Q\n",
    "lorentzian_points = 2000\n",
    "interp_min = 6.6\n",
    "interp_max = 10.1\n",
    "\n",
    "#----------------------\n",
    "def normalized_lorentzian(f, f0, δf):\n",
    "    \"\"\"\n",
    "    Parameters\n",
    "    ----------\n",
    "    f : numpy.ndarray or float\n",
    "        The frequency where the function is evaluated, in units of Hz\n",
    "    f0 : float\n",
    "        The center frequency of the Lorentzian, in units of Hz\n",
    "    δf : float\n",
    "        The linewidth of the Lorentzian, expressed as the full width at half maximum (FWHM), in units of Hz\n",
    "        \n",
    "    Returns\n",
    "    -------\n",
    "    numpy.ndarray or float\n",
    "        The normalized transmittance value of the function at the given frequency\n",
    "    \"\"\"\n",
    "    return δf**2/(δf**2 + 4*(f - f0)**2)\n",
    "#----------------------\n",
    "\n",
    "Z_red_interp = []\n",
    "Z_green_interp = []\n",
    "Z_blue_interp = []\n",
    "red_vec = np.transpose(rgb_vec)[0]\n",
    "green_vec = np.transpose(rgb_vec)[1]\n",
    "blue_vec = np.transpose(rgb_vec)[2]\n",
    "interp_range = np.linspace(interp_min, interp_max, lorentzian_points)\n",
    "for i in np.arange(len(Y)):\n",
    "    Z_red_interp.append(red_vec[i]*normalized_lorentzian(interp_range, Y[i], δf))\n",
    "    Z_green_interp.append(green_vec[i]*normalized_lorentzian(interp_range, Y[i], δf))\n",
    "    Z_blue_interp.append(blue_vec[i]*normalized_lorentzian(interp_range, Y[i], δf))\n",
    "\n",
    "# Create a dictionary to store the maximum values for each value in X\n",
    "red_max_dict = {}\n",
    "green_max_dict = {}\n",
    "blue_max_dict = {}\n",
    "\n",
    "# Loop through each pair of indices where X[i] = X[j] and update the corresponding maximum value in the dictionary\n",
    "for i in range(len(X)):\n",
    "    for j in range(i+1, len(X)):\n",
    "        if X[i] == X[j]:\n",
    "            red_y_max = [max(y1, y2) for y1, y2 in zip(Z_red_interp[i], Z_red_interp[j])]\n",
    "            green_y_max = [max(y1, y2) for y1, y2 in zip(Z_green_interp[i], Z_green_interp[j])]\n",
    "            blue_y_max = [max(y1, y2) for y1, y2 in zip(Z_blue_interp[i], Z_blue_interp[j])]\n",
    "            \n",
    "            if X[i] in red_max_dict:\n",
    "                red_max_dict[X[i]] = [max(red_max_dict[X[i]][k], red_y_max[k]) for k in range(len(red_y_max))]\n",
    "            else:\n",
    "                red_max_dict[X[i]] = red_y_max\n",
    "                \n",
    "            if X[i] in green_max_dict:\n",
    "                green_max_dict[X[i]] = [max(green_max_dict[X[i]][k], green_y_max[k]) for k in range(len(green_y_max))]\n",
    "            else:\n",
    "                green_max_dict[X[i]] = green_y_max\n",
    "                \n",
    "            if X[i] in blue_max_dict:\n",
    "                blue_max_dict[X[i]] = [max(blue_max_dict[X[i]][k], blue_y_max[k]) for k in range(len(blue_y_max))]\n",
    "            else:\n",
    "                blue_max_dict[X[i]] = blue_y_max\n",
    "\n",
    "idx_unique = np.unique(X, return_index=True)[1]\n",
    "X_new = X[idx_unique]\n",
    "Y_new = interp_range\n",
    "Z_red_new = np.array([red_max_dict[x] if x in red_max_dict else y for x, y in zip(X, Z_red_interp)])[idx_unique]\n",
    "Z_green_new = np.array([green_max_dict[x] if x in green_max_dict else y for x, y in zip(X, Z_green_interp)])[idx_unique]\n",
    "Z_blue_new = np.array([blue_max_dict[x] if x in blue_max_dict else y for x, y in zip(X, Z_blue_interp)])[idx_unique]"
   ]
  },
  {
   "cell_type": "code",
   "execution_count": null,
   "metadata": {
    "tags": []
   },
   "outputs": [],
   "source": [
    "print(selected_files[idx_file])\n",
    "fig, ax = plt.subplots(1,3,figsize=(14,5))\n",
    "\n",
    "ax[0].pcolormesh(X_new, Y_new, np.transpose(Z_red_new), shading=\"auto\", cmap=\"Reds\")\n",
    "ax[0].set_title(\"X Polarization\")\n",
    "ax[0].set_xlabel(columns[idx_df_column_X])\n",
    "ax[0].set_ylabel(columns[idx_df_column_Y])\n",
    "ax[0].grid(color=\"Black\", alpha=0.25)\n",
    "\n",
    "ax[1].pcolormesh(X_new, Y_new, np.transpose(Z_green_new), shading=\"auto\", cmap=\"Greens\")\n",
    "ax[0].set_title(\"Y Polarization\")\n",
    "ax[1].set_xlabel(columns[idx_df_column_X])\n",
    "ax[1].set_ylabel(columns[idx_df_column_Y])\n",
    "ax[1].grid(color=\"Black\", alpha=0.25)\n",
    "\n",
    "ax[2].pcolormesh(X_new, Y_new, np.transpose(Z_blue_new), shading=\"auto\", cmap=\"Blues\")\n",
    "ax[0].set_title(\"Z Polarization\")\n",
    "ax[2].set_xlabel(columns[idx_df_column_X])\n",
    "ax[2].set_ylabel(columns[idx_df_column_Y])\n",
    "ax[2].grid(color=\"Black\", alpha=0.25)"
   ]
  },
  {
   "cell_type": "code",
   "execution_count": 15,
   "metadata": {
    "tags": []
   },
   "outputs": [],
   "source": [
    "x_points = 2000\n",
    "y_points = 2000\n",
    "\n",
    "#----------\n",
    "# Define the interpolation function\n",
    "Z_red_new_interp_func = scipy.interpolate.RegularGridInterpolator((X_new, Y_new), Z_red_new, method='linear')\n",
    "Z_green_new_interp_func = scipy.interpolate.RegularGridInterpolator((X_new, Y_new), Z_green_new, method='linear')\n",
    "Z_blue_new_interp_func = scipy.interpolate.RegularGridInterpolator((X_new, Y_new), Z_blue_new, method='linear')\n",
    "\n",
    "# Define a higher-resolution mesh for plotting\n",
    "X_new_interp = np.linspace(np.min(X_new), np.max(X_new), x_points)\n",
    "Y_new_interp = np.linspace(np.min(Y_new), np.max(Y_new), y_points)\n",
    "X_meshgrid, Y_meshgrid = np.meshgrid(X_new_interp, Y_new_interp)\n",
    "points = np.vstack([X_meshgrid.ravel(), Y_meshgrid.ravel()]).T\n",
    "\n",
    "# Interpolate the data at the new points\n",
    "Z_red_new_interp = Z_red_new_interp_func(points).reshape((len(Y_new_interp), len(X_new_interp)))\n",
    "Z_green_new_interp = Z_green_new_interp_func(points).reshape((len(Y_new_interp), len(X_new_interp)))\n",
    "Z_blue_new_interp = Z_blue_new_interp_func(points).reshape((len(Y_new_interp), len(X_new_interp)))\n",
    "\n",
    "Z_new_interp = []\n",
    "for i in np.arange(len(Z_red_new_interp)):\n",
    "    Z_new_aux = []\n",
    "    for j in np.arange(len(Z_red_new_interp[i])):\n",
    "        Z_new_aux.append([Z_red_new_interp[i][j], Z_green_new_interp[i][j], Z_blue_new_interp[i][j]])\n",
    "    Z_new_interp.append(Z_new_aux)"
   ]
  },
  {
   "cell_type": "code",
   "execution_count": null,
   "metadata": {
    "tags": []
   },
   "outputs": [],
   "source": [
    "fig, ax = plt.subplots(figsize=(6,6))\n",
    "ax.set_title(selected_files[idx_file])\n",
    "ax.pcolormesh(X_new_interp, Y_new_interp, Z_new_interp, rasterized=1)\n",
    "ax.set_xlabel(columns[idx_df_column_X])\n",
    "ax.set_ylabel(columns[idx_df_column_Y])\n",
    "ax.set_ylim(1.8, 2.2)\n",
    "#ax.set_yticks(np.linspace(5.8, 8.2, 9))\n",
    "#ax.set_xlim(-60, 60)\n",
    "ax.grid(True)"
   ]
  },
  {
   "cell_type": "code",
   "execution_count": 17,
   "metadata": {
    "tags": []
   },
   "outputs": [],
   "source": [
    "#fig.savefig(\"full_polarization_betterQm.pdf\", dpi=600)"
   ]
  },
  {
   "cell_type": "markdown",
   "metadata": {},
   "source": [
    "# 3 - Spectrogram"
   ]
  },
  {
   "cell_type": "code",
   "execution_count": null,
   "metadata": {
    "tags": []
   },
   "outputs": [],
   "source": [
    "print(selected_files[idx_file])\n",
    "counter = 0\n",
    "columns = df_filtered.columns\n",
    "for column in columns:\n",
    "    print(f\"{counter}: {column}\")\n",
    "    counter += 1"
   ]
  },
  {
   "cell_type": "code",
   "execution_count": 20,
   "metadata": {
    "tags": []
   },
   "outputs": [],
   "source": [
    "idx_df_column_X = 5\n",
    "X = df_filtered[columns[idx_df_column_X]].values.real\n",
    "\n",
    "idx_df_column_Y = 6\n",
    "Y = df_filtered[columns[idx_df_column_Y]].values.real\n",
    "\n",
    "idx_df_column_Z = 34\n",
    "Z = abs(df_filtered[columns[idx_df_column_Z]].values)\n",
    "\n",
    "Qm = 400\n",
    "δf = 0.01/Qm # f0/Q\n",
    "lorentzian_points = 2000\n",
    "interp_min = 6.9e9\n",
    "interp_max = 8.5e9\n",
    "\n",
    "#----------------------\n",
    "def normalized_lorentzian(f, f0, δf):\n",
    "    \"\"\"\n",
    "    Parameters\n",
    "    ----------\n",
    "    f : numpy.ndarray or float\n",
    "        The frequency where the function is evaluated, in units of Hz\n",
    "    f0 : float\n",
    "        The center frequency of the Lorentzian, in units of Hz\n",
    "    δf : float\n",
    "        The linewidth of the Lorentzian, expressed as the full width at half maximum (FWHM), in units of Hz\n",
    "        \n",
    "    Returns\n",
    "    -------\n",
    "    numpy.ndarray or float\n",
    "        The normalized transmittance value of the function at the given frequency\n",
    "    \"\"\"\n",
    "    return δf**2/(δf**2 + 4*(f - f0)**2)\n",
    "#----------------------\n",
    "\n",
    "Z_interp = []\n",
    "interp_range = np.linspace(interp_min, interp_max, lorentzian_points)\n",
    "for i in np.arange(len(Y)):\n",
    "    Z_interp.append(Z[i]*normalized_lorentzian(interp_range, Y[i], Y[i]/Qm))\n",
    "        \n",
    "# Create a dictionary to store the maximum values for each value in X\n",
    "max_dict = {}\n",
    "\n",
    "# Loop through each pair of indices where X[i] = X[j] and update the corresponding maximum value in the dictionary\n",
    "for i in range(len(X)):\n",
    "    for j in range(i+1, len(X)):\n",
    "        if X[i] == X[j]:\n",
    "            y_max = [max(y1, y2) for y1, y2 in zip(Z_interp[i], Z_interp[j])]\n",
    "            if X[i] in max_dict:\n",
    "                max_dict[X[i]] = [max(max_dict[X[i]][k], y_max[k]) for k in range(len(y_max))]\n",
    "            else:\n",
    "                max_dict[X[i]] = y_max\n",
    "\n",
    "# Convert the dictionary to a list of lists to create the new 2D vector Y_new\n",
    "Z_interp_new = np.array([max_dict[x] if x in max_dict else y for x, y in zip(X, Z_interp)])\n",
    "\n",
    "idx_unique = np.unique(X, return_index=True)[1]\n",
    "X_new = X[idx_unique]\n",
    "Y_new = interp_range\n",
    "Z_new = Z_interp_new[idx_unique]"
   ]
  },
  {
   "cell_type": "code",
   "execution_count": null,
   "metadata": {
    "tags": []
   },
   "outputs": [],
   "source": [
    "x_points = 2000\n",
    "y_points = 2000\n",
    "#----------\n",
    "\n",
    "print(selected_files[idx_file])\n",
    "fig, ax = plt.subplots(nrows=1, ncols=2, figsize=(12,5))\n",
    "\n",
    "cmap0 = plt.cm.RdBu_r\n",
    "#cmap0 = plt.cm.RdGy_r\n",
    "\n",
    "im0 = ax[0].pcolormesh(X_new, Y_new, np.transpose(Z_new), cmap=cmap0, zorder=0, rasterized=1)\n",
    "ax[0].set_title(selected_files[idx_file])\n",
    "ax[0].set_xlabel(columns[idx_df_column_X])\n",
    "ax[0].set_ylabel(columns[idx_df_column_Y])\n",
    "ax[0].grid(True)\n",
    "cbar0 = ax[0].figure.colorbar(im0, ax=ax[0], ticks=np.linspace(np.min(Z_new), np.max(Z_new), 6), orientation='horizontal')\n",
    "cbar0.set_label(columns[idx_df_column_Z])\n",
    "cbar0.ax.tick_params(labelsize=10)\n",
    "\n",
    "#----------\n",
    "# Define the interpolation function\n",
    "Z_new_interp_func = scipy.interpolate.RegularGridInterpolator((X_new, Y_new), Z_new, method='linear')\n",
    "\n",
    "# Define a higher-resolution mesh for plotting\n",
    "X_new_interp = np.linspace(np.min(X_new), np.max(X_new), x_points)\n",
    "Y_new_interp = np.linspace(np.min(Y_new), np.max(Y_new), y_points)\n",
    "X_meshgrid, Y_meshgrid = np.meshgrid(X_new_interp, Y_new_interp)\n",
    "points = np.vstack([X_meshgrid.ravel(), Y_meshgrid.ravel()]).T\n",
    "\n",
    "# Interpolate the data at the new points\n",
    "Z_new_interp = Z_new_interp_func(points).reshape((len(Y_new_interp), len(X_new_interp)))\n",
    "\n",
    "# Plot the interpolated data using pcolormesh\n",
    "im1 = ax[1].pcolormesh(X_new_interp, Y_new_interp, Z_new_interp, cmap=cmap0, zorder=0, rasterized=1)\n",
    "ax[1].set_title(selected_files[idx_file])\n",
    "ax[1].set_xlabel(columns[idx_df_column_X])\n",
    "ax[1].set_ylabel(columns[idx_df_column_Y])\n",
    "ax[1].grid(True)\n",
    "cbar1 = ax[1].figure.colorbar(im1, ax=ax[1], ticks=np.linspace(np.min(Z_new_interp), np.max(Z_new_interp), 6), orientation='horizontal')\n",
    "cbar1.set_label(columns[idx_df_column_Z])\n",
    "cbar1.ax.tick_params(labelsize=10)"
   ]
  },
  {
   "cell_type": "code",
   "execution_count": null,
   "metadata": {
    "tags": []
   },
   "outputs": [],
   "source": [
    "fig, ax = plt.subplots(nrows=1, ncols=1, figsize=(8,5))\n",
    "\n",
    "im = ax.pcolormesh(X_new_interp*(180/np.pi), Y_new_interp/1e9, Z_new_interp, cmap=cmap0, zorder=0, rasterized=1, vmin=0)\n",
    "ax.set_title(selected_files[idx_file])\n",
    "ax.set_xlabel(\"Z-material-axis rotation [degree]\")\n",
    "ax.set_ylabel(\"Frequency [GHz]\")\n",
    "#ax.set_ylim(6, 10)\n",
    "#ax.set_yticks(np.linspace(7.8, 8.2, 9))\n",
    "ax.grid(True)\n",
    "cbar = ax.figure.colorbar(im, ax=ax, ticks=np.linspace(0, np.max(Z_new_interp), 6))\n",
    "cbar.set_label(\"GB/Qm [1/W/m]\")\n",
    "cbar.ax.tick_params(labelsize=10)\n",
    "print(selected_files[idx_file])"
   ]
  },
  {
   "cell_type": "code",
   "execution_count": 22,
   "metadata": {},
   "outputs": [],
   "source": [
    "fig.savefig(\"piezo_clamped_gain_dispersion_TETE.pdf\", dpi=600)"
   ]
  },
  {
   "cell_type": "code",
   "execution_count": null,
   "metadata": {},
   "outputs": [],
   "source": []
  },
  {
   "cell_type": "code",
   "execution_count": null,
   "metadata": {},
   "outputs": [],
   "source": []
  },
  {
   "cell_type": "code",
   "execution_count": null,
   "metadata": {},
   "outputs": [],
   "source": []
  }
 ],
 "metadata": {
  "@webio": {
   "lastCommId": null,
   "lastKernelId": null
  },
  "kernelspec": {
   "display_name": "Python 3",
   "language": "python",
   "name": "python3"
  },
  "language_info": {
   "codemirror_mode": {
    "name": "ipython",
    "version": 3
   },
   "file_extension": ".py",
   "mimetype": "text/x-python",
   "name": "python",
   "nbconvert_exporter": "python",
   "pygments_lexer": "ipython3",
   "version": "3.12.4"
  }
 },
 "nbformat": 4,
 "nbformat_minor": 4
}
