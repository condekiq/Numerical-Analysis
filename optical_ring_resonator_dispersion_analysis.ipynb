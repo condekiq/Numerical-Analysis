{
 "cells": [
  {
   "cell_type": "code",
   "execution_count": null,
   "metadata": {},
   "outputs": [],
   "source": [
    "import os\n",
    "import numpy as np\n",
    "import pandas as pd\n",
    "import matplotlib.pyplot as plt\n",
    "import lmfit\n",
    "import scipy.constants\n",
    "from scipy.signal import savgol_filter\n",
    "import hvplot.pandas\n",
    "\n",
    "%run \"C:\\Users\\conde\\Desktop\\My Archives\\Codes\\Python\\Data Analysis\\my_optical_analysis_functions.ipynb\""
   ]
  },
  {
   "cell_type": "code",
   "execution_count": null,
   "metadata": {},
   "outputs": [],
   "source": [
    "directory = \"C:\\\\Users\\\\conde\\\\Desktop\\\\My Archives\\\\Photonicamp\\\\Artigos Publicados\\\\LTOI e LN on Sapphire\\\\LTOI\"\n",
    "directory = \"C:\\\\Users\\\\conde\\\\Desktop\\\\My Archives\\\\Photonicamp\\\\Artigos Publicados\\\\On-Chip Backward Stimulated Brillouin Scattering in Lithium Niobate Waveguides\\\\Data\\\\Fig10_Supp\"\n",
    "\n",
    "directory_file_list = os.listdir(directory)\n",
    "selected_files = []\n",
    "counter = 0\n",
    "\n",
    "for i in directory_file_list:\n",
    "    if i.endswith(\".csv\") or i.endswith(\".parq\"):\n",
    "        print(f\"{counter}: {i}\")\n",
    "        selected_files.append(i)\n",
    "        counter += 1"
   ]
  },
  {
   "cell_type": "code",
   "execution_count": null,
   "metadata": {},
   "outputs": [],
   "source": [
    "idx_file = 0\n",
    "header = 21\n",
    "\n",
    "file_name = selected_files[idx_file]\n",
    "#df_raw = pd.read_csv(directory+\"\\\\\"+selected_files[idx_file], header=header)\n",
    "df_raw = pd.read_parquet(directory+\"\\\\\"+selected_files[idx_file])\n",
    "columns_raw=df_raw.columns\n",
    "\n",
    "print(file_name)\n",
    "df_raw.hvplot.explorer(cmap='viridis', rasterize=True)"
   ]
  },
  {
   "cell_type": "code",
   "execution_count": 4,
   "metadata": {},
   "outputs": [],
   "source": [
    "idx_crop_i = int(4.417e5)\n",
    "idx_crop_f = int(7.4e5)\n",
    "idx_data_column = 2\n",
    "idx_MZI_column = 1\n",
    "idx_HCN_column = 2\n",
    "flip = True\n",
    "#----------\n",
    "\n",
    "data_crop = (df_raw[columns_raw[idx_data_column]].values)[idx_crop_i:idx_crop_f]\n",
    "MZI_crop = (df_raw[columns_raw[idx_MZI_column]].values)[idx_crop_i:idx_crop_f]\n",
    "HCN_crop = (df_raw[columns_raw[idx_HCN_column]].values)[idx_crop_i:idx_crop_f]\n",
    "\n",
    "if flip:\n",
    "    data_crop = np.flip(data_crop)\n",
    "    MZI_crop = np.flip(MZI_crop)\n",
    "    HCN_crop = np.flip(HCN_crop)"
   ]
  },
  {
   "cell_type": "code",
   "execution_count": null,
   "metadata": {},
   "outputs": [],
   "source": [
    "MZI_normalized, MZI_baseline_up, MZI_baseline_down = background_flattening(MZI_crop, lam=100*len(MZI_crop), baseline_up=True, baseline_down=True)\n",
    "\n",
    "%matplotlib inline\n",
    "fig, ax = plt.subplots(2,2,figsize=(13,4))\n",
    "fig.tight_layout()\n",
    "\n",
    "ax[0,0].plot(MZI_crop)\n",
    "ax[0,0].plot(MZI_baseline_up, c='black')\n",
    "ax[0,0].plot(MZI_baseline_down, c='black')\n",
    "ax[0,0].grid(True)\n",
    "\n",
    "ax[0,1].plot(MZI_normalized)\n",
    "ax[0,1].grid(True)\n",
    "\n",
    "idx_MZI_plot_i = 100000\n",
    "idx_MZI_plot_f = 101000\n",
    "ax[1,0].plot(MZI_crop[idx_MZI_plot_i:idx_MZI_plot_f])\n",
    "ax[1,0].plot(MZI_baseline_up[idx_MZI_plot_i:idx_MZI_plot_f], c='black')\n",
    "ax[1,0].plot(MZI_baseline_down[idx_MZI_plot_i:idx_MZI_plot_f], c='black')\n",
    "ax[1,0].grid(True)\n",
    "\n",
    "idx_MZI_plot_offset = 10000\n",
    "idx_MZI_plot_i = idx_MZI_plot_i + idx_MZI_plot_offset\n",
    "idx_MZI_plot_f = idx_MZI_plot_f + idx_MZI_plot_offset\n",
    "ax[1,1].plot(MZI_crop[idx_MZI_plot_i:idx_MZI_plot_f])\n",
    "ax[1,1].plot(MZI_baseline_up[idx_MZI_plot_i:idx_MZI_plot_f], c='black')\n",
    "ax[1,1].plot(MZI_baseline_down[idx_MZI_plot_i:idx_MZI_plot_f], c='black')\n",
    "ax[1,1].grid(True)\n",
    "\n",
    "print(file_name)"
   ]
  },
  {
   "cell_type": "code",
   "execution_count": null,
   "metadata": {},
   "outputs": [],
   "source": [
    "filt = False\n",
    "if filt:\n",
    "    MZI_filtered = savgol_filter(MZI_normalized, window_length=2, polyorder=1, mode='interp')\n",
    "else:\n",
    "    MZI_filtered = MZI_normalized\n",
    "\n",
    "%matplotlib inline\n",
    "fig, ax = plt.subplots(1,2,figsize=(13,2))\n",
    "fig.tight_layout()\n",
    "\n",
    "ax[0].plot(MZI_normalized, linewidth=3)\n",
    "ax[0].plot(MZI_filtered, linewidth=1)\n",
    "ax[0].set_ylabel(\"MZI Filt vs MZI Crop\")\n",
    "ax[0].grid(True)\n",
    "\n",
    "idx_MZI_plot_i = 144370\n",
    "idx_MZI_plot_f = 144470\n",
    "ax[1].plot(MZI_normalized[idx_MZI_plot_i:idx_MZI_plot_f], linewidth=3)\n",
    "ax[1].plot(MZI_filtered[idx_MZI_plot_i:idx_MZI_plot_f], linewidth=1)\n",
    "ax[1].grid(True)\n",
    "\n",
    "print(file_name)"
   ]
  },
  {
   "cell_type": "code",
   "execution_count": null,
   "metadata": {},
   "outputs": [],
   "source": [
    "FSR = 137.0e6 # in HZ\n",
    "detuning, data, MZI, idx_MZI_peaks = from_MZI_to_detuning(data_crop, MZI_filtered, FSR=FSR, distance=2, height=0.2, centralize=True)\n",
    "\n",
    "%matplotlib inline\n",
    "fig, ax = plt.subplots(2,1,figsize=(13,4))\n",
    "fig.tight_layout()\n",
    "\n",
    "ax[0].plot(detuning, MZI, linewidth=1)\n",
    "ax[0].scatter(detuning[idx_MZI_peaks], MZI[idx_MZI_peaks], c='red', zorder=5)\n",
    "ax[0].set_xlim(1e10,1.5e10)\n",
    "ax[0].set_ylabel(\"MZI Norm.\")\n",
    "ax[0].set_xlabel(\"Detuning [units of FSR]\")\n",
    "ax[0].grid(True)\n",
    "\n",
    "ax[1].plot(detuning, data, linewidth=3)\n",
    "ax[1].set_xlim(detuning[0], detuning[-1])\n",
    "ax[1].set_ylabel(\"Data\")\n",
    "ax[1].set_xlabel(\"Detuning [Hz]\")\n",
    "ax[1].grid(True)\n",
    "\n",
    "print(file_name)"
   ]
  },
  {
   "cell_type": "code",
   "execution_count": null,
   "metadata": {},
   "outputs": [],
   "source": [
    "data_normalized, data_baseline_up, data_baseline_down = background_flattening(data, lam=10**5*len(data), baseline_up=True, baseline_down=False)\n",
    "data_normalized_peaks_height = 0.6\n",
    "#idx_data_normalized_peaks = find_peaks(data_normalized, height=data_normalized_peaks_height, distance=1000)[0]\n",
    "idx_data_normalized_peaks = find_peaks(1-data_normalized, height=data_normalized_peaks_height, distance=1000)[0]\n",
    "\n",
    "%matplotlib inline\n",
    "fig, ax = plt.subplots(1,2,figsize=(13,4))\n",
    "fig.tight_layout()\n",
    "\n",
    "ax[0].plot(data_normalized)\n",
    "ax[0].plot([0, len(data_normalized)], [data_normalized_peaks_height, data_normalized_peaks_height], c=\"black\", linestyle=\"dashed\")\n",
    "ax[0].scatter(idx_data_normalized_peaks, data_normalized[idx_data_normalized_peaks], c='red')\n",
    "ax[0].grid(True)\n",
    "counter=0\n",
    "for i in idx_data_normalized_peaks:\n",
    "    ax[0].annotate(str(counter) + \" - \" + str(i), xy=(i, data_normalized[i]), size=7, rotation=-90)\n",
    "    counter += 1\n",
    "\n",
    "ax[1].plot(data)\n",
    "ax[1].plot(data_baseline_up, c='black')\n",
    "ax[1].plot(data_baseline_down, c='black')\n",
    "ax[1].scatter(idx_data_normalized_peaks, data[idx_data_normalized_peaks], c='red')\n",
    "ax[1].grid(True)\n",
    "counter=0\n",
    "for i in idx_data_normalized_peaks:\n",
    "    ax[1].annotate(str(counter) + \" - \" + str(i), xy=(i, data[i]), size=7, rotation=-90)\n",
    "    counter += 1\n",
    "\n",
    "print(file_name)"
   ]
  },
  {
   "cell_type": "markdown",
   "metadata": {},
   "source": [
    "# Fitting Modes"
   ]
  },
  {
   "cell_type": "code",
   "execution_count": null,
   "metadata": {},
   "outputs": [],
   "source": [
    "mode = 6\n",
    "MZI_window_size = 500\n",
    "MZI_plot_rescale_factor = 1/100\n",
    "#-------\n",
    "\n",
    "idx_mode = idx_data_peaks[mode]\n",
    "closest_idx_MZI_peak = np.argmin(np.abs(idx_MZI_peaks - idx_mode))\n",
    "idx_MZI_peaks_i = idx_MZI_peaks[closest_idx_MZI_peak - MZI_window_size]\n",
    "idx_MZI_peaks_f = idx_MZI_peaks[closest_idx_MZI_peak + MZI_window_size]\n",
    "\n",
    "X_mode = (detuning - detuning[idx_mode])[idx_MZI_peaks_i:(idx_MZI_peaks_f+1)]\n",
    "Y_mode = data[idx_MZI_peaks_i:(idx_MZI_peaks_f+1)]\n",
    "MZI_mode = MZI[idx_MZI_peaks_i:(idx_MZI_peaks_f+1)]*MZI_plot_rescale_factor\n",
    "idx_MZI_peaks_mode = idx_MZI_peaks[(closest_idx_MZI_peak - MZI_window_size):(closest_idx_MZI_peak + MZI_window_size)] - idx_MZI_peaks_i \n",
    "\n",
    "caique_plot(X_mode, Y_mode, MZI=MZI_mode, idx_MZI_peaks=idx_MZI_peaks_mode)"
   ]
  },
  {
   "cell_type": "markdown",
   "metadata": {},
   "source": [
    "## Single Optical Mode"
   ]
  },
  {
   "cell_type": "code",
   "execution_count": null,
   "metadata": {},
   "outputs": [],
   "source": [
    "#optical_mode(Δ, Δ0, κ, κe, V0)\n",
    "model = lmfit.Model(optical_mode)\n",
    "params = model.make_params(Δ0={'value': 0.0e9, 'vary': True, 'min':-5.0e9, 'max':5.0e9},\n",
    "                            κ={'value': 0.35e9, 'vary': True, 'min':0.0, 'max':np.inf},\n",
    "                           κe={'value': 0.1e9, 'vary': True, 'min':0.0, 'max':np.inf},\n",
    "                           V0={'value': 0.01, 'vary': True, 'min':0.0, 'max':np.inf})\n",
    "result = model.fit(Y_mode, params, Δ=X_mode, method='leastsq')\n",
    "\n",
    "caique_plot(X_mode, Y_mode, MZI=MZI_mode, idx_MZI_peaks=idx_MZI_peaks_mode, result=result)"
   ]
  },
  {
   "cell_type": "markdown",
   "metadata": {},
   "source": [
    "## Splitted Optical Mode"
   ]
  },
  {
   "cell_type": "code",
   "execution_count": null,
   "metadata": {},
   "outputs": [],
   "source": [
    "#splitted_optical_mode(Δ, Δ0, κ, κe, V0, J)\n",
    "model = lmfit.Model(splitted_optical_mode)\n",
    "params = model.make_params(Δ0={'value': -0.2e9, 'vary': True, 'min':-5.0e9, 'max':5.0e9},\n",
    "                            κ={'value': 0.4e9, 'vary': True, 'min':0.0, 'max':np.inf},\n",
    "                           κe={'value': 0.10e9, 'vary': True, 'min':0.0, 'max':np.inf},\n",
    "                           V0={'value': 1.2, 'vary': True, 'min':0.0, 'max':np.inf},\n",
    "                            J={'value': 0.2e9, 'vary': True, 'min':-10.0e9, 'max':10.0e9})\n",
    "result = model.fit(Y_mode, params, Δ=X_mode, method='leastsq')\n",
    "\n",
    "caique_plot(X_mode, Y_mode, MZI=MZI_mode, idx_MZI_peaks=idx_MZI_peaks_mode, result=result)"
   ]
  },
  {
   "cell_type": "markdown",
   "metadata": {},
   "source": [
    "## Single Optical Mode with Fabry Perot background"
   ]
  },
  {
   "cell_type": "code",
   "execution_count": null,
   "metadata": {},
   "outputs": [],
   "source": [
    "#optical_mode_with_fabry_perot(Δ, Δ0, κ, κe, V0, R1, R2, δ, δΔ)\n",
    "model = lmfit.Model(optical_mode_with_fabry_perot)\n",
    "model.set_param_hint('R2', expr='R1')\n",
    "params = model.make_params(Δ0={'value': -0.05e9, 'vary': True, 'min':-5.0e9, 'max':5.0e9},\n",
    "                            κ={'value': 2.0e9, 'vary': True, 'min':0.0, 'max':np.inf},\n",
    "                           κe={'value': 0.5e9, 'vary': True, 'min':0.0, 'max':np.inf},\n",
    "                           V0={'value': 0.015, 'vary': True, 'min':0.0, 'max':np.inf},\n",
    "                           R1={'value': 0.01, 'vary': True, 'min':0.0, 'max':0.1},\n",
    "                           #R2={'value': 0.01, 'vary': True, 'min':0.0, 'max':0.03},\n",
    "                            δ={'value': 1.1e-9, 'vary': True, 'min':0.0e-9, 'max':10e-9},\n",
    "                           δΔ={'value': 2e9, 'vary': True, 'min':-10.0e9, 'max':10.0e9})\n",
    "result = model.fit(Y_mode, params, Δ=X_mode, method='leastsq')\n",
    "\n",
    "caique_plot(X_mode, Y_mode, MZI=MZI_mode, idx_MZI_peaks=idx_MZI_peaks_mode, result=result)"
   ]
  },
  {
   "cell_type": "markdown",
   "metadata": {},
   "source": [
    "## Splitted Optical Mode with Fabry Perot background"
   ]
  },
  {
   "cell_type": "code",
   "execution_count": null,
   "metadata": {},
   "outputs": [],
   "source": [
    "#splitted_optical_mode_with_fabry_perot(Δ, Δ0, κ, κe, V0, J, R1, R2, δin, δΔin, δout, δΔout)\n",
    "model = lmfit.Model(splitted_optical_mode_with_fabry_perot)\n",
    "model.set_param_hint('R2', expr='R1')\n",
    "params = model.make_params(Δ0={'value': -0.02e9, 'vary': True, 'min':-3.0e9, 'max':3.0e9},\n",
    "                            κ={'value': 0.4e9, 'vary': True, 'min':0.0, 'max':np.inf},\n",
    "                           κe={'value': 0.1e9, 'vary': True, 'min':0.0, 'max':np.inf},\n",
    "                           V0={'value': 1.1407561, 'vary': True, 'min':0.0, 'max':np.inf},\n",
    "                            J={'value': 0.3e9, 'vary': True, 'min':-5e9, 'max':5e9},\n",
    "                           R1={'value': 0.02, 'vary': True, 'min':0.0, 'max':0.2},\n",
    "                           #R2={'value': 0.01, 'vary': True, 'min':0.0, 'max':0.2},\n",
    "                          δin={'value': 0.2e-9, 'vary': True, 'min':-10e-9, 'max':10e-9},\n",
    "                         δΔin={'value': 1.7e9, 'vary': True, 'min':-10.0e9, 'max':10.0e9},\n",
    "                         δout={'value': 0.2e-9, 'vary': True, 'min':-10e-9, 'max':10e-9},\n",
    "                        δΔout={'value': 1.7e9, 'vary': True, 'min':-10.0e9, 'max':10.0e9})\n",
    "result = model.fit(Y_mode, params, Δ=X_mode, method='leastsq')\n",
    "\n",
    "caique_plot(X_mode, Y_mode, MZI=MZI_mode, idx_MZI_peaks=idx_MZI_peaks_mode, result=result)"
   ]
  },
  {
   "cell_type": "markdown",
   "metadata": {},
   "source": [
    "# Dispersion Analysis"
   ]
  },
  {
   "cell_type": "code",
   "execution_count": null,
   "metadata": {},
   "outputs": [],
   "source": [
    "mode_to_center = 7\n",
    "X_disp = (np.arange(len(idx_data_peaks)) - mode_to_center)\n",
    "Y_disp = (detuning[idx_data_peaks] - detuning[idx_data_peaks[mode_to_center]])\n",
    "#----------\n",
    "\n",
    "model = lmfit.Model(freq_disp)\n",
    "params = model.make_params(D0={'value': 5.0e12, 'vary': True, 'min':-np.inf, 'max':np.inf},\n",
    "                           D1={'value': 170.0e9, 'vary': True, 'min':-np.inf, 'max':np.inf},\n",
    "                           D2={'value': -50.0e6, 'vary': True, 'min':-np.inf, 'max':np.inf},\n",
    "                           D3={'value': 1.0e7, 'vary': True, 'min':-np.inf, 'max':np.inf})\n",
    "result = model.fit(Y_disp, params, u=X_disp, method='leastsq')\n",
    "\n",
    "ans = result.params.valuesdict()\n",
    "\n",
    "fig, ax = plt.subplots(figsize=(13,4))\n",
    "fig.tight_layout()\n",
    "ax.scatter(X_disp, (Y_disp - ans['D0'] - X_disp*ans['D1']), color='black', linewidth=3)\n",
    "ax.plot(X_disp, freq_disp(X_disp, 0, 0, ans['D2'], ans['D3']), color='red', linewidth=2, linestyle='dashed')\n",
    "ax.grid(True)\n",
    "print(file_name)\n",
    "\n",
    "caique_plot(X_disp, Y_disp, plottype='scatter', annotate=False, result=result)"
   ]
  },
  {
   "cell_type": "code",
   "execution_count": 13,
   "metadata": {},
   "outputs": [],
   "source": [
    "fig.savefig(selected_files[idx_file].split(\".\")[-2].split(\".\")[0]+\"spectrumTE.pdf\", dpi=600)"
   ]
  },
  {
   "cell_type": "code",
   "execution_count": null,
   "metadata": {},
   "outputs": [],
   "source": [
    "X_disp_new = (detuning[idx_data_peaks] - detuning[idx_data_peaks[mode_to_center]])\n",
    "\n",
    "fig, ax = plt.subplots(figsize=(13,4))\n",
    "fig.tight_layout()\n",
    "ax.scatter(X_disp_new, (Y_disp - ans['D0'] - X_disp*ans['D1']), color='black', linewidth=3)\n",
    "ax.plot(X_disp_new, freq_disp(X_disp, 0, 0, ans['D2'], ans['D3']), color='red', linewidth=2, linestyle='dashed')\n",
    "ax.grid(True)\n",
    "ax.set_ylim(-2.1e9,0.1e9)\n",
    "ax.set_xlim(-1e12,1e12)\n",
    "print(file_name)"
   ]
  },
  {
   "cell_type": "code",
   "execution_count": null,
   "metadata": {},
   "outputs": [],
   "source": []
  },
  {
   "cell_type": "code",
   "execution_count": null,
   "metadata": {},
   "outputs": [],
   "source": []
  }
 ],
 "metadata": {
  "@webio": {
   "lastCommId": null,
   "lastKernelId": null
  },
  "kernelspec": {
   "display_name": "Python 3",
   "language": "python",
   "name": "python3"
  },
  "language_info": {
   "codemirror_mode": {
    "name": "ipython",
    "version": 3
   },
   "file_extension": ".py",
   "mimetype": "text/x-python",
   "name": "python",
   "nbconvert_exporter": "python",
   "pygments_lexer": "ipython3",
   "version": "3.12.4"
  }
 },
 "nbformat": 4,
 "nbformat_minor": 4
}
